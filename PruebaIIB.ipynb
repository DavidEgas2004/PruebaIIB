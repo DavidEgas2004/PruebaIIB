{
 "cells": [
  {
   "cell_type": "code",
   "execution_count": 1,
   "metadata": {},
   "outputs": [
    {
     "name": "stdout",
     "output_type": "stream",
     "text": [
      "[01-11 12:23:37][INFO] 2025-01-11 12:23:37.191970\n",
      "[01-11 12:23:40][INFO] 2025-01-11 12:23:40.138197\n"
     ]
    }
   ],
   "source": [
    "from src import ajustar_min_cuadrados\n",
    "import numpy as np \n",
    "import matplotlib.pyplot as plt"
   ]
  },
  {
   "cell_type": "code",
   "execution_count": 2,
   "metadata": {},
   "outputs": [],
   "source": [
    "# Derivadas parciales para regresión lineal\n",
    "# ####################################################################\n",
    "def der_parcial_1(xs: list, ys: list) -> tuple[float, float, float]:\n",
    "    \"\"\"Retorna los coeficientes de la ecuación de la derivada parcial con respecto al parámetro 1 al reemplazar los valores ``xs`` y ``ys``. La ecuación es de la forma:\n",
    "    c_1 * a_1 + c_0 * a_0 = c_ind\n",
    "\n",
    "\n",
    "    ## Parameters\n",
    "\n",
    "    ``xs``: lista de valores de x.\n",
    "\n",
    "    ``ys``: lista de valores de y.\n",
    "\n",
    "    ## Return\n",
    "\n",
    "    ``c_1``: coeficiente del parámetro 1.\n",
    "\n",
    "    ``c_0``: coeficiente del parámetro 0.\n",
    "\n",
    "    ``c_ind``: coeficiente del término independiente.\n",
    "\n",
    "    \"\"\"\n",
    "\n",
    "    # coeficiente del término independiente\n",
    "    c_ind = sum(ys)\n",
    "\n",
    "    # coeficiente del parámetro 1\n",
    "    c_1 = sum(xs)\n",
    "\n",
    "    # coeficiente del parámetro 0\n",
    "    c_0 = len(xs)\n",
    "\n",
    "    return (c_1, c_0, c_ind)\n",
    "\n",
    "def der_parcial_0(xs: list, ys: list) -> tuple[float, float, float]:\n",
    "    \"\"\"Retorna los coeficientes de la ecuación de la derivada parcial con respecto al parámetro 0 al reemplazar los valores ``xs`` y ``ys``. La ecuación es de la forma:\n",
    "    c_1 * a_1 + c_0 * a_0 = c_ind\n",
    "\n",
    "\n",
    "    ## Parameters\n",
    "\n",
    "    ``xs``: lista de valores de x.\n",
    "\n",
    "    ``ys``: lista de valores de y.\n",
    "\n",
    "    ## Return\n",
    "\n",
    "    ``c_1``: coeficiente del parámetro 1.\n",
    "\n",
    "    ``c_0``: coeficiente del parámetro 0.\n",
    "\n",
    "    ``c_ind``: coeficiente del término independiente.\n",
    "\n",
    "    \"\"\"\n",
    "    c_1 = 0\n",
    "    c_0 = 0\n",
    "    c_ind = 0\n",
    "    for xi, yi in zip(xs, ys):\n",
    "        # coeficiente del término independiente\n",
    "        c_ind += xi * yi\n",
    "\n",
    "        # coeficiente del parámetro 1\n",
    "        c_1 += xi * xi\n",
    "\n",
    "        # coeficiente del parámetro 0\n",
    "        c_0 += xi\n",
    "\n",
    "    return (c_1, c_0, c_ind)"
   ]
  },
  {
   "cell_type": "code",
   "execution_count": 5,
   "metadata": {},
   "outputs": [],
   "source": [
    "xs1 = [\n",
    "    -5.0000,\n",
    "    -3.8889,\n",
    "    -2.7778,\n",
    "    -1.6667,\n",
    "    -0.5556,\n",
    "    0.5556,\n",
    "    1.6667,\n",
    "    2.7778,\n",
    "    3.8889,\n",
    "    5.0000,\n",
    "]\n",
    "ys1 = [\n",
    "    57.2441,\n",
    "    33.0303,\n",
    "    16.4817,\n",
    "    7.0299,\n",
    "    0.5498,\n",
    "    0.7117,\n",
    "    3.4185,\n",
    "    12.1767,\n",
    "    24.9167,\n",
    "    44.2495,\n",
    "]"
   ]
  },
  {
   "cell_type": "code",
   "execution_count": 7,
   "metadata": {},
   "outputs": [
    {
     "name": "stdout",
     "output_type": "stream",
     "text": [
      "[01-11 12:30:11][INFO] Se ajustarán 2 parámetros.\n",
      "[01-11 12:30:11][INFO] \n",
      "[[ 101.8525926     0.         -114.41357678]\n",
      " [   0.           10.          199.8089    ]]\n"
     ]
    }
   ],
   "source": [
    "pars = ajustar_min_cuadrados(xs1, ys1, gradiente=[der_parcial_1, der_parcial_0])"
   ]
  }
 ],
 "metadata": {
  "kernelspec": {
   "display_name": "Python 3",
   "language": "python",
   "name": "python3"
  },
  "language_info": {
   "codemirror_mode": {
    "name": "ipython",
    "version": 3
   },
   "file_extension": ".py",
   "mimetype": "text/x-python",
   "name": "python",
   "nbconvert_exporter": "python",
   "pygments_lexer": "ipython3",
   "version": "3.13.0"
  }
 },
 "nbformat": 4,
 "nbformat_minor": 2
}
